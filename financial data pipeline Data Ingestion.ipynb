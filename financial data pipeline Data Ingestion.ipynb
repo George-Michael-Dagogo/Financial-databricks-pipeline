{
 "cells": [
  {
   "cell_type": "markdown",
   "metadata": {
    "application/vnd.databricks.v1+cell": {
     "cellMetadata": {},
     "inputWidgets": {},
     "nuid": "97f6b26b-cb54-4df5-ad00-ea344dede3bc",
     "showTitle": false,
     "title": ""
    }
   },
   "source": [
    "# Bronze layer"
   ]
  },
  {
   "cell_type": "markdown",
   "metadata": {
    "application/vnd.databricks.v1+cell": {
     "cellMetadata": {},
     "inputWidgets": {},
     "nuid": "54e74362-baea-4bd3-8b67-a1c73d4b6ccd",
     "showTitle": false,
     "title": ""
    }
   },
   "source": [
    "### Testing for valid URLs"
   ]
  },
  {
   "cell_type": "code",
   "execution_count": null,
   "metadata": {
    "application/vnd.databricks.v1+cell": {
     "cellMetadata": {
      "byteLimit": 2048000,
      "rowLimit": 10000
     },
     "inputWidgets": {},
     "nuid": "d907c07f-959c-483b-81d8-b47e9ea96f15",
     "showTitle": false,
     "title": ""
    }
   },
   "outputs": [
    {
     "name": "stdout",
     "output_type": "stream",
     "text": [
      "checking URL: https://www.sec.gov/files/dera/data/financial-statement-data-sets/2009q1.zip\n",
      "status code: 200\n",
      "checking URL: https://www.sec.gov/files/dera/data/financial-statement-data-sets/2009q2.zip\n",
      "status code: 200\n",
      "checking URL: https://www.sec.gov/files/dera/data/financial-statement-data-sets/2009q3.zip\n",
      "status code: 200\n",
      "checking URL: https://www.sec.gov/files/dera/data/financial-statement-data-sets/2009q4.zip\n",
      "status code: 200\n",
      "checking URL: https://www.sec.gov/files/dera/data/financial-statement-data-sets/2010q1.zip\n",
      "status code: 200\n",
      "checking URL: https://www.sec.gov/files/dera/data/financial-statement-data-sets/2010q2.zip\n",
      "status code: 200\n",
      "checking URL: https://www.sec.gov/files/dera/data/financial-statement-data-sets/2010q3.zip\n",
      "status code: 200\n",
      "checking URL: https://www.sec.gov/files/dera/data/financial-statement-data-sets/2010q4.zip\n",
      "status code: 200\n",
      "checking URL: https://www.sec.gov/files/dera/data/financial-statement-data-sets/2011q1.zip\n",
      "status code: 200\n",
      "checking URL: https://www.sec.gov/files/dera/data/financial-statement-data-sets/2011q2.zip\n",
      "status code: 200\n",
      "checking URL: https://www.sec.gov/files/dera/data/financial-statement-data-sets/2011q3.zip\n",
      "status code: 200\n",
      "checking URL: https://www.sec.gov/files/dera/data/financial-statement-data-sets/2011q4.zip\n",
      "status code: 200\n",
      "checking URL: https://www.sec.gov/files/dera/data/financial-statement-data-sets/2012q1.zip\n",
      "status code: 200\n",
      "checking URL: https://www.sec.gov/files/dera/data/financial-statement-data-sets/2012q2.zip\n",
      "status code: 200\n",
      "checking URL: https://www.sec.gov/files/dera/data/financial-statement-data-sets/2012q3.zip\n",
      "status code: 200\n",
      "checking URL: https://www.sec.gov/files/dera/data/financial-statement-data-sets/2012q4.zip\n",
      "status code: 200\n",
      "checking URL: https://www.sec.gov/files/dera/data/financial-statement-data-sets/2013q1.zip\n",
      "status code: 200\n",
      "checking URL: https://www.sec.gov/files/dera/data/financial-statement-data-sets/2013q2.zip\n",
      "status code: 200\n",
      "checking URL: https://www.sec.gov/files/dera/data/financial-statement-data-sets/2013q3.zip\n",
      "status code: 200\n",
      "checking URL: https://www.sec.gov/files/dera/data/financial-statement-data-sets/2013q4.zip\n",
      "status code: 200\n",
      "checking URL: https://www.sec.gov/files/dera/data/financial-statement-data-sets/2014q1.zip\n",
      "status code: 200\n",
      "checking URL: https://www.sec.gov/files/dera/data/financial-statement-data-sets/2014q2.zip\n",
      "status code: 200\n",
      "checking URL: https://www.sec.gov/files/dera/data/financial-statement-data-sets/2014q3.zip\n",
      "status code: 200\n",
      "checking URL: https://www.sec.gov/files/dera/data/financial-statement-data-sets/2014q4.zip\n",
      "status code: 200\n",
      "checking URL: https://www.sec.gov/files/dera/data/financial-statement-data-sets/2015q1.zip\n",
      "status code: 200\n",
      "checking URL: https://www.sec.gov/files/dera/data/financial-statement-data-sets/2015q2.zip\n",
      "status code: 200\n",
      "checking URL: https://www.sec.gov/files/dera/data/financial-statement-data-sets/2015q3.zip\n",
      "status code: 200\n",
      "checking URL: https://www.sec.gov/files/dera/data/financial-statement-data-sets/2015q4.zip\n",
      "status code: 200\n",
      "checking URL: https://www.sec.gov/files/dera/data/financial-statement-data-sets/2016q1.zip\n",
      "status code: 200\n",
      "checking URL: https://www.sec.gov/files/dera/data/financial-statement-data-sets/2016q2.zip\n",
      "status code: 200\n",
      "checking URL: https://www.sec.gov/files/dera/data/financial-statement-data-sets/2016q3.zip\n",
      "status code: 200\n",
      "checking URL: https://www.sec.gov/files/dera/data/financial-statement-data-sets/2016q4.zip\n",
      "status code: 200\n",
      "checking URL: https://www.sec.gov/files/dera/data/financial-statement-data-sets/2017q1.zip\n",
      "status code: 200\n",
      "checking URL: https://www.sec.gov/files/dera/data/financial-statement-data-sets/2017q2.zip\n",
      "status code: 200\n",
      "checking URL: https://www.sec.gov/files/dera/data/financial-statement-data-sets/2017q3.zip\n",
      "status code: 200\n",
      "checking URL: https://www.sec.gov/files/dera/data/financial-statement-data-sets/2017q4.zip\n",
      "status code: 200\n",
      "checking URL: https://www.sec.gov/files/dera/data/financial-statement-data-sets/2018q1.zip\n",
      "status code: 200\n",
      "checking URL: https://www.sec.gov/files/dera/data/financial-statement-data-sets/2018q2.zip\n",
      "status code: 200\n",
      "checking URL: https://www.sec.gov/files/dera/data/financial-statement-data-sets/2018q3.zip\n",
      "status code: 200\n",
      "checking URL: https://www.sec.gov/files/dera/data/financial-statement-data-sets/2018q4.zip\n",
      "status code: 200\n",
      "checking URL: https://www.sec.gov/files/dera/data/financial-statement-data-sets/2019q1.zip\n",
      "status code: 200\n",
      "checking URL: https://www.sec.gov/files/dera/data/financial-statement-data-sets/2019q2.zip\n",
      "status code: 200\n",
      "checking URL: https://www.sec.gov/files/dera/data/financial-statement-data-sets/2019q3.zip\n",
      "status code: 200\n",
      "checking URL: https://www.sec.gov/files/dera/data/financial-statement-data-sets/2019q4.zip\n",
      "status code: 200\n",
      "checking URL: https://www.sec.gov/files/dera/data/financial-statement-data-sets/2020q1.zip\n",
      "status code: 200\n",
      "checking URL: https://www.sec.gov/files/dera/data/financial-statement-data-sets/2020q2.zip\n",
      "status code: 200\n",
      "checking URL: https://www.sec.gov/files/dera/data/financial-statement-data-sets/2020q3.zip\n",
      "status code: 200\n",
      "checking URL: https://www.sec.gov/files/dera/data/financial-statement-data-sets/2020q4.zip\n",
      "status code: 200\n",
      "checking URL: https://www.sec.gov/files/dera/data/financial-statement-data-sets/2021q1.zip\n",
      "status code: 200\n",
      "checking URL: https://www.sec.gov/files/dera/data/financial-statement-data-sets/2021q2.zip\n",
      "status code: 200\n",
      "checking URL: https://www.sec.gov/files/dera/data/financial-statement-data-sets/2021q3.zip\n",
      "status code: 200\n",
      "checking URL: https://www.sec.gov/files/dera/data/financial-statement-data-sets/2021q4.zip\n",
      "status code: 200\n",
      "checking URL: https://www.sec.gov/files/dera/data/financial-statement-data-sets/2022q1.zip\n",
      "status code: 200\n",
      "checking URL: https://www.sec.gov/files/dera/data/financial-statement-data-sets/2022q2.zip\n",
      "status code: 200\n",
      "checking URL: https://www.sec.gov/files/dera/data/financial-statement-data-sets/2022q3.zip\n",
      "status code: 200\n",
      "checking URL: https://www.sec.gov/files/dera/data/financial-statement-data-sets/2022q4.zip\n",
      "status code: 200\n",
      "checking URL: https://www.sec.gov/files/dera/data/financial-statement-data-sets/2023q1.zip\n",
      "status code: 200\n",
      "checking URL: https://www.sec.gov/files/dera/data/financial-statement-data-sets/2023q2.zip\n",
      "status code: 200\n",
      "checking URL: https://www.sec.gov/files/dera/data/financial-statement-data-sets/2023q3.zip\n",
      "status code: 200\n",
      "checking URL: https://www.sec.gov/files/dera/data/financial-statement-data-sets/2023q4.zip\n",
      "status code: 200\n",
      "checking URL: https://www.sec.gov/files/dera/data/financial-statement-data-sets/2024q1.zip\n",
      "status code: 200\n",
      "checking URL: https://www.sec.gov/files/dera/data/financial-statement-data-sets/2024q2.zip\n",
      "status code: 404\n"
     ]
    },
    {
     "data": {
      "text/plain": [
       "['https://www.sec.gov/files/dera/data/financial-statement-data-sets/2009q1.zip',\n",
       " 'https://www.sec.gov/files/dera/data/financial-statement-data-sets/2009q2.zip',\n",
       " 'https://www.sec.gov/files/dera/data/financial-statement-data-sets/2009q3.zip',\n",
       " 'https://www.sec.gov/files/dera/data/financial-statement-data-sets/2009q4.zip',\n",
       " 'https://www.sec.gov/files/dera/data/financial-statement-data-sets/2010q1.zip',\n",
       " 'https://www.sec.gov/files/dera/data/financial-statement-data-sets/2010q2.zip',\n",
       " 'https://www.sec.gov/files/dera/data/financial-statement-data-sets/2010q3.zip',\n",
       " 'https://www.sec.gov/files/dera/data/financial-statement-data-sets/2010q4.zip',\n",
       " 'https://www.sec.gov/files/dera/data/financial-statement-data-sets/2011q1.zip',\n",
       " 'https://www.sec.gov/files/dera/data/financial-statement-data-sets/2011q2.zip',\n",
       " 'https://www.sec.gov/files/dera/data/financial-statement-data-sets/2011q3.zip',\n",
       " 'https://www.sec.gov/files/dera/data/financial-statement-data-sets/2011q4.zip',\n",
       " 'https://www.sec.gov/files/dera/data/financial-statement-data-sets/2012q1.zip',\n",
       " 'https://www.sec.gov/files/dera/data/financial-statement-data-sets/2012q2.zip',\n",
       " 'https://www.sec.gov/files/dera/data/financial-statement-data-sets/2012q3.zip',\n",
       " 'https://www.sec.gov/files/dera/data/financial-statement-data-sets/2012q4.zip',\n",
       " 'https://www.sec.gov/files/dera/data/financial-statement-data-sets/2013q1.zip',\n",
       " 'https://www.sec.gov/files/dera/data/financial-statement-data-sets/2013q2.zip',\n",
       " 'https://www.sec.gov/files/dera/data/financial-statement-data-sets/2013q3.zip',\n",
       " 'https://www.sec.gov/files/dera/data/financial-statement-data-sets/2013q4.zip',\n",
       " 'https://www.sec.gov/files/dera/data/financial-statement-data-sets/2014q1.zip',\n",
       " 'https://www.sec.gov/files/dera/data/financial-statement-data-sets/2014q2.zip',\n",
       " 'https://www.sec.gov/files/dera/data/financial-statement-data-sets/2014q3.zip',\n",
       " 'https://www.sec.gov/files/dera/data/financial-statement-data-sets/2014q4.zip',\n",
       " 'https://www.sec.gov/files/dera/data/financial-statement-data-sets/2015q1.zip',\n",
       " 'https://www.sec.gov/files/dera/data/financial-statement-data-sets/2015q2.zip',\n",
       " 'https://www.sec.gov/files/dera/data/financial-statement-data-sets/2015q3.zip',\n",
       " 'https://www.sec.gov/files/dera/data/financial-statement-data-sets/2015q4.zip',\n",
       " 'https://www.sec.gov/files/dera/data/financial-statement-data-sets/2016q1.zip',\n",
       " 'https://www.sec.gov/files/dera/data/financial-statement-data-sets/2016q2.zip',\n",
       " 'https://www.sec.gov/files/dera/data/financial-statement-data-sets/2016q3.zip',\n",
       " 'https://www.sec.gov/files/dera/data/financial-statement-data-sets/2016q4.zip',\n",
       " 'https://www.sec.gov/files/dera/data/financial-statement-data-sets/2017q1.zip',\n",
       " 'https://www.sec.gov/files/dera/data/financial-statement-data-sets/2017q2.zip',\n",
       " 'https://www.sec.gov/files/dera/data/financial-statement-data-sets/2017q3.zip',\n",
       " 'https://www.sec.gov/files/dera/data/financial-statement-data-sets/2017q4.zip',\n",
       " 'https://www.sec.gov/files/dera/data/financial-statement-data-sets/2018q1.zip',\n",
       " 'https://www.sec.gov/files/dera/data/financial-statement-data-sets/2018q2.zip',\n",
       " 'https://www.sec.gov/files/dera/data/financial-statement-data-sets/2018q3.zip',\n",
       " 'https://www.sec.gov/files/dera/data/financial-statement-data-sets/2018q4.zip',\n",
       " 'https://www.sec.gov/files/dera/data/financial-statement-data-sets/2019q1.zip',\n",
       " 'https://www.sec.gov/files/dera/data/financial-statement-data-sets/2019q2.zip',\n",
       " 'https://www.sec.gov/files/dera/data/financial-statement-data-sets/2019q3.zip',\n",
       " 'https://www.sec.gov/files/dera/data/financial-statement-data-sets/2019q4.zip',\n",
       " 'https://www.sec.gov/files/dera/data/financial-statement-data-sets/2020q1.zip',\n",
       " 'https://www.sec.gov/files/dera/data/financial-statement-data-sets/2020q2.zip',\n",
       " 'https://www.sec.gov/files/dera/data/financial-statement-data-sets/2020q3.zip',\n",
       " 'https://www.sec.gov/files/dera/data/financial-statement-data-sets/2020q4.zip',\n",
       " 'https://www.sec.gov/files/dera/data/financial-statement-data-sets/2021q1.zip',\n",
       " 'https://www.sec.gov/files/dera/data/financial-statement-data-sets/2021q2.zip',\n",
       " 'https://www.sec.gov/files/dera/data/financial-statement-data-sets/2021q3.zip',\n",
       " 'https://www.sec.gov/files/dera/data/financial-statement-data-sets/2021q4.zip',\n",
       " 'https://www.sec.gov/files/dera/data/financial-statement-data-sets/2022q1.zip',\n",
       " 'https://www.sec.gov/files/dera/data/financial-statement-data-sets/2022q2.zip',\n",
       " 'https://www.sec.gov/files/dera/data/financial-statement-data-sets/2022q3.zip',\n",
       " 'https://www.sec.gov/files/dera/data/financial-statement-data-sets/2022q4.zip',\n",
       " 'https://www.sec.gov/files/dera/data/financial-statement-data-sets/2023q1.zip',\n",
       " 'https://www.sec.gov/files/dera/data/financial-statement-data-sets/2023q2.zip',\n",
       " 'https://www.sec.gov/files/dera/data/financial-statement-data-sets/2023q3.zip',\n",
       " 'https://www.sec.gov/files/dera/data/financial-statement-data-sets/2023q4.zip',\n",
       " 'https://www.sec.gov/files/dera/data/financial-statement-data-sets/2024q1.zip']"
      ]
     },
     "execution_count": 2,
     "metadata": {},
     "output_type": "execute_result"
    }
   ],
   "source": [
    "#https://www.sec.gov/files/dera/data/financial-statement-data-sets/2011q2.zip\n",
    "\n",
    "import requests\n",
    "from azure.storage.blob import BlobServiceClient, BlobClient, ContainerClient\n",
    "\n",
    "\n",
    "\n",
    "headers = {\n",
    "   \"User-Agent\": \"jo boulement jo@gmx.at\",\n",
    "    \"Accept-Encoding\": \"gzip, deflate\" \n",
    "}\n",
    "\n",
    "def generate_sec_urls(start_year = 2009, start_quarter = 1):\n",
    "  urls = []\n",
    "  year = start_year\n",
    "  quarter = start_quarter\n",
    "\n",
    "  while True:\n",
    "    url = f\"https://www.sec.gov/files/dera/data/financial-statement-data-sets/{year}q{quarter}.zip\"\n",
    "    print(f\"checking URL: {url}\")\n",
    "    response = requests.get(url,headers= headers)\n",
    "    print(f\"status code: {response.status_code}\")\n",
    "    if response.status_code == 200:\n",
    "      urls.append(url) \n",
    "      quarter += 1\n",
    "      if quarter > 4:\n",
    "        quarter = 1\n",
    "        year +=1\n",
    "    else:\n",
    "      break\n",
    "  \n",
    "  return urls\n",
    "\n",
    "valid_urls = generate_sec_urls()\n",
    "valid_urls\n"
   ]
  },
  {
   "cell_type": "markdown",
   "metadata": {
    "application/vnd.databricks.v1+cell": {
     "cellMetadata": {},
     "inputWidgets": {},
     "nuid": "6259eb2b-05ca-41c2-bfc1-dd63ae959107",
     "showTitle": false,
     "title": ""
    }
   },
   "source": [
    "### Pushing to Blob Storage Container"
   ]
  },
  {
   "cell_type": "code",
   "execution_count": null,
   "metadata": {
    "application/vnd.databricks.v1+cell": {
     "cellMetadata": {
      "byteLimit": 2048000,
      "rowLimit": 10000
     },
     "inputWidgets": {},
     "nuid": "31d2e2e8-68f8-4f72-be2e-b82abb8a85a3",
     "showTitle": false,
     "title": ""
    }
   },
   "outputs": [
    {
     "name": "stdout",
     "output_type": "stream",
     "text": [
      "file 2009q1.zip uploaded to blob storage\n",
      "file 2009q2.zip uploaded to blob storage\n",
      "file 2009q3.zip uploaded to blob storage\n",
      "file 2009q4.zip uploaded to blob storage\n",
      "file 2010q1.zip uploaded to blob storage\n",
      "file 2010q2.zip uploaded to blob storage\n",
      "file 2010q3.zip uploaded to blob storage\n",
      "file 2010q4.zip uploaded to blob storage\n",
      "file 2011q1.zip uploaded to blob storage\n",
      "file 2011q2.zip uploaded to blob storage\n",
      "file 2011q3.zip uploaded to blob storage\n",
      "file 2011q4.zip uploaded to blob storage\n",
      "file 2012q1.zip uploaded to blob storage\n",
      "file 2012q2.zip uploaded to blob storage\n",
      "file 2012q3.zip uploaded to blob storage\n",
      "file 2012q4.zip uploaded to blob storage\n",
      "file 2013q1.zip uploaded to blob storage\n",
      "file 2013q2.zip uploaded to blob storage\n",
      "file 2013q3.zip uploaded to blob storage\n",
      "file 2013q4.zip uploaded to blob storage\n",
      "file 2014q1.zip uploaded to blob storage\n",
      "file 2014q2.zip uploaded to blob storage\n",
      "file 2014q3.zip uploaded to blob storage\n",
      "file 2014q4.zip uploaded to blob storage\n",
      "file 2015q1.zip uploaded to blob storage\n",
      "file 2015q2.zip uploaded to blob storage\n",
      "file 2015q3.zip uploaded to blob storage\n",
      "file 2015q4.zip uploaded to blob storage\n",
      "file 2016q1.zip uploaded to blob storage\n",
      "file 2016q2.zip uploaded to blob storage\n",
      "file 2016q3.zip uploaded to blob storage\n",
      "file 2016q4.zip uploaded to blob storage\n",
      "file 2017q1.zip uploaded to blob storage\n",
      "file 2017q2.zip uploaded to blob storage\n",
      "file 2017q3.zip uploaded to blob storage\n",
      "file 2017q4.zip uploaded to blob storage\n",
      "file 2018q1.zip uploaded to blob storage\n",
      "file 2018q2.zip uploaded to blob storage\n",
      "file 2018q3.zip uploaded to blob storage\n",
      "file 2018q4.zip uploaded to blob storage\n",
      "file 2019q1.zip uploaded to blob storage\n",
      "file 2019q2.zip uploaded to blob storage\n",
      "file 2019q3.zip uploaded to blob storage\n",
      "file 2019q4.zip uploaded to blob storage\n",
      "file 2020q1.zip uploaded to blob storage\n",
      "file 2020q2.zip uploaded to blob storage\n",
      "file 2020q3.zip uploaded to blob storage\n",
      "file 2020q4.zip uploaded to blob storage\n",
      "file 2021q1.zip uploaded to blob storage\n",
      "file 2021q2.zip uploaded to blob storage\n",
      "file 2021q3.zip uploaded to blob storage\n",
      "file 2021q4.zip uploaded to blob storage\n",
      "file 2022q1.zip uploaded to blob storage\n",
      "file 2022q2.zip uploaded to blob storage\n",
      "file 2022q3.zip uploaded to blob storage\n",
      "file 2022q4.zip uploaded to blob storage\n",
      "file 2023q1.zip uploaded to blob storage\n",
      "file 2023q2.zip uploaded to blob storage\n",
      "file 2023q3.zip uploaded to blob storage\n",
      "file 2023q4.zip uploaded to blob storage\n",
      "file 2024q1.zip uploaded to blob storage\n"
     ]
    }
   ],
   "source": [
    "connection_string = \"\"\n",
    "container_name = \"testtech\"\n",
    "\n",
    "#blob client\n",
    "blob_service_client = BlobServiceClient.from_connection_string(connection_string)\n",
    "\n",
    "def download_to_blob(url, blob_name):\n",
    "  response = requests.get(url, headers=headers)\n",
    "  if response.status_code == 200:\n",
    "    blob_client = blob_service_client.get_blob_client(container=container_name, blob = blob_name)\n",
    "    blob_client.upload_blob(response.content, overwrite = True)\n",
    "    print(f'file {blob_name} uploaded to blob storage')\n",
    "  else:\n",
    "    print(f'failed to download from {url}. Status code {response.status_code}')\n",
    "\n",
    "\n",
    "def main():\n",
    "  for url in valid_urls:\n",
    "    blob_name = url.split('/')[-1]\n",
    "    download_to_blob(url, blob_name)\n",
    "\n",
    "\n",
    "if __name__ == \"__main__\":\n",
    "    main()\n",
    "\n"
   ]
  },
  {
   "cell_type": "markdown",
   "metadata": {
    "application/vnd.databricks.v1+cell": {
     "cellMetadata": {},
     "inputWidgets": {},
     "nuid": "d03c0f90-3b77-44ee-a4dd-4b0aa33fbbe8",
     "showTitle": false,
     "title": ""
    }
   },
   "source": [
    "# Silver Layer"
   ]
  },
  {
   "cell_type": "markdown",
   "metadata": {
    "application/vnd.databricks.v1+cell": {
     "cellMetadata": {},
     "inputWidgets": {},
     "nuid": "4a6ad10d-c7c9-44eb-8fe9-5e2ddf2d6919",
     "showTitle": false,
     "title": ""
    }
   },
   "source": [
    "## Mount Blob storage on Databrick's DBFS\n"
   ]
  },
  {
   "cell_type": "code",
   "execution_count": null,
   "metadata": {
    "application/vnd.databricks.v1+cell": {
     "cellMetadata": {
      "byteLimit": 2048000,
      "rowLimit": 10000
     },
     "inputWidgets": {},
     "nuid": "fa038fb1-0012-4bc4-bd41-8ad713a52791",
     "showTitle": false,
     "title": ""
    }
   },
   "outputs": [
    {
     "data": {
      "text/plain": [
       "True"
      ]
     },
     "execution_count": 2,
     "metadata": {},
     "output_type": "execute_result"
    }
   ],
   "source": [
    "storage_account_name = \"testtech\"\n",
    "storage_account_key = ''\n",
    "container_name_source = \"testtech\"\n",
    "container_name_dest = \"newtesttech\"\n",
    "\n",
    "\n",
    "# Configure the spark context with the storage account key\n",
    "spark.conf.set(f\"fs.azure.account.key.{storage_account_name}.blob.core.windows.net\", storage_account_key)\n",
    "\n",
    "# Mount your source container\n",
    "dbutils.fs.mount(\n",
    "  source = f\"wasbs://{container_name_source}@{storage_account_name}.blob.core.windows.net\",\n",
    "  mount_point = f\"/mnt/{container_name_source}\",\n",
    "  extra_configs = {f\"fs.azure.account.key.{storage_account_name}.blob.core.windows.net\": storage_account_key}\n",
    ")\n",
    "\n",
    "# Mount your destination container\n",
    "dbutils.fs.mount(\n",
    "  source = f\"wasbs://newtesttech@{storage_account_name}.blob.core.windows.net/\",\n",
    "  mount_point = \"/mnt/newtesttech\",\n",
    "  extra_configs = {f\"fs.azure.account.key.{storage_account_name}.blob.core.windows.net\": storage_account_key}\n",
    ")"
   ]
  },
  {
   "cell_type": "code",
   "execution_count": null,
   "metadata": {
    "application/vnd.databricks.v1+cell": {
     "cellMetadata": {
      "byteLimit": 2048000,
      "rowLimit": 10000
     },
     "inputWidgets": {},
     "nuid": "318046e2-eac6-49a4-b38a-f2b316450808",
     "showTitle": false,
     "title": ""
    }
   },
   "outputs": [
    {
     "data": {
      "text/plain": [
       "[FileInfo(path='dbfs:/mnt/testtech/2009q2.zip', name='2009q2.zip', size=163510, modificationTime=1719415581000),\n",
       " FileInfo(path='dbfs:/mnt/testtech/2009q3.zip', name='2009q3.zip', size=2578176, modificationTime=1719415582000),\n",
       " FileInfo(path='dbfs:/mnt/testtech/2009q4.zip', name='2009q4.zip', size=2855181, modificationTime=1719415582000),\n",
       " FileInfo(path='dbfs:/mnt/testtech/2010q1.zip', name='2010q1.zip', size=3299076, modificationTime=1719415583000),\n",
       " FileInfo(path='dbfs:/mnt/testtech/2010q2.zip', name='2010q2.zip', size=2861043, modificationTime=1719415583000),\n",
       " FileInfo(path='dbfs:/mnt/testtech/temp_folder/', name='temp_folder/', size=0, modificationTime=1720402736000)]"
      ]
     },
     "execution_count": 8,
     "metadata": {},
     "output_type": "execute_result"
    }
   ],
   "source": [
    "dbutils.fs.ls(f\"/mnt/{container_name_source}\")"
   ]
  },
  {
   "cell_type": "markdown",
   "metadata": {
    "application/vnd.databricks.v1+cell": {
     "cellMetadata": {},
     "inputWidgets": {},
     "nuid": "40d52a2c-43aa-49a4-839a-c03ab663bfaf",
     "showTitle": false,
     "title": ""
    }
   },
   "source": [
    "## Unzip and move contents from one container to another after transformation"
   ]
  },
  {
   "cell_type": "code",
   "execution_count": null,
   "metadata": {
    "application/vnd.databricks.v1+cell": {
     "cellMetadata": {
      "byteLimit": 2048000,
      "rowLimit": 10000
     },
     "inputWidgets": {},
     "nuid": "f6ffb791-cebd-461e-b4d3-54861e302dfe",
     "showTitle": false,
     "title": ""
    }
   },
   "outputs": [
    {
     "name": "stdout",
     "output_type": "stream",
     "text": [
      "/mnt/testtech has been unmounted.\n",
      "/mnt/newtesttech has been unmounted.\n"
     ]
    },
    {
     "data": {
      "text/plain": [
       "True"
      ]
     },
     "execution_count": 86,
     "metadata": {},
     "output_type": "execute_result"
    }
   ],
   "source": [
    "import os\n",
    "import zipfile\n",
    "from pyspark.sql import SparkSession\n",
    "from pyspark.sql.functions import to_date, col\n",
    "\n",
    "\n",
    "\n",
    "zip_files = dbutils.fs.ls(f\"/mnt/{container_name_source}\")\n",
    "zip_files = [f for f in zip_files if f.name.endswith('.zip')]\n",
    "for zip_file in zip_files:\n",
    "    \n",
    "    new_folder_name = zip_file.name.split('.')[0]\n",
    "    dbutils.fs.mkdirs(f\"/mnt/{container_name_dest}/{new_folder_name}\")\n",
    "    \n",
    "    extract_path = f'/dbfs/mnt/{container_name_source}/temp_folder'\n",
    "    working_dir = f'/dbfs/mnt/{container_name_source}/{new_folder_name}.zip'\n",
    "    #dbutils.fs.ls(f\"/mnt/{container_name_source}\")\n",
    "    dbutils.fs.mkdirs(extract_path)\n",
    "    \n",
    "    with zipfile.ZipFile(working_dir, 'r') as zip_ref:\n",
    "        zip_ref.extractall(extract_path)\n",
    "    \n",
    "    \n",
    "    sub_path = f'/mnt/{container_name_source}/temp_folder/sub.txt'\n",
    "    sub_df = spark.read.option(\"delimiter\", \"\\t\").option(\"header\", \"true\").csv(sub_path)\n",
    "    sub_df = sub_df.withColumn(\"filed\", to_date(col(\"filed\"), \"yyyyMMdd\")).withColumn(\"period\", to_date(col(\"period\"), \"yyyyMMdd\"))\n",
    "    sub_df.write.mode(\"overwrite\").parquet(f'/mnt/{container_name_dest}/{new_folder_name}/sub.parquet')\n",
    "    \n",
    "    tag_path = f'/mnt/{container_name_source}/temp_folder/tag.txt'\n",
    "    tag_df = spark.read.option(\"delimiter\", \"\\t\").option(\"header\", \"true\").csv(tag_path)\n",
    "    tag_df.write.mode(\"overwrite\").parquet(f'/mnt/{container_name_dest}/{new_folder_name}/tag.parquet')\n",
    "    \n",
    "    \n",
    "    num_path = f'/mnt/{container_name_source}/temp_folder/num.txt'\n",
    "    num_df = spark.read.option(\"delimiter\", \"\\t\").option(\"header\", \"true\").csv(num_path)\n",
    "    num_df = num_df.withColumn(\"ddate\", to_date(col(\"ddate\"), \"yyyyMMdd\"))\n",
    "    num_df.write.mode(\"overwrite\").parquet(f'/mnt/{container_name_dest}/{new_folder_name}/num.parquet')\n",
    "    \n",
    "    \n",
    "    pre_path = f'/mnt/{container_name_source}/temp_folder/pre.txt'\n",
    "    pre_df = spark.read.option(\"delimiter\", \"\\t\").option(\"header\", \"true\").csv(pre_path)\n",
    "    pre_df.write.mode(\"overwrite\").parquet(f'/mnt/{container_name_dest}/{new_folder_name}/pre.parquet')\n",
    "    \n",
    "    dbutils.fs.rm(extract_path, recurse=True)\n",
    "\n",
    "# Unmount the containers\n",
    "dbutils.fs.unmount(f\"/mnt/{container_name_source}\")\n",
    "dbutils.fs.unmount(f\"/mnt/{container_name_dest}\")"
   ]
  },
  {
   "cell_type": "markdown",
   "metadata": {
    "application/vnd.databricks.v1+cell": {
     "cellMetadata": {},
     "inputWidgets": {},
     "nuid": "21f7fb5a-b425-4e87-911c-e0c28823b533",
     "showTitle": false,
     "title": ""
    }
   },
   "source": [
    "# Gold Layer"
   ]
  },
  {
   "cell_type": "markdown",
   "metadata": {
    "application/vnd.databricks.v1+cell": {
     "cellMetadata": {},
     "inputWidgets": {},
     "nuid": "5337a417-01da-4ca0-bf2f-39a176b54d9a",
     "showTitle": false,
     "title": ""
    }
   },
   "source": [
    "## Create Delta tables"
   ]
  },
  {
   "cell_type": "code",
   "execution_count": null,
   "metadata": {
    "application/vnd.databricks.v1+cell": {
     "cellMetadata": {
      "byteLimit": 2048000,
      "implicitDf": true,
      "rowLimit": 10000
     },
     "inputWidgets": {},
     "nuid": "672a72b5-0987-4d2d-8a26-fdb21bef1195",
     "showTitle": false,
     "title": ""
    }
   },
   "outputs": [
    {
     "data": {
      "text/html": [
       "<style scoped>\n",
       "  .table-result-container {\n",
       "    max-height: 300px;\n",
       "    overflow: auto;\n",
       "  }\n",
       "  table, th, td {\n",
       "    border: 1px solid black;\n",
       "    border-collapse: collapse;\n",
       "  }\n",
       "  th, td {\n",
       "    padding: 5px;\n",
       "  }\n",
       "  th {\n",
       "    text-align: left;\n",
       "  }\n",
       "</style><div class='table-result-container'><table class='table-result'><thead style='background-color: white'><tr></tr></thead><tbody></tbody></table></div>"
      ]
     },
     "metadata": {
      "application/vnd.databricks.v1+output": {
       "addedWidgets": {},
       "aggData": [],
       "aggError": "",
       "aggOverflow": false,
       "aggSchema": [],
       "aggSeriesLimitReached": false,
       "aggType": "",
       "arguments": {},
       "columnCustomDisplayInfos": {},
       "data": [],
       "datasetInfos": [],
       "dbfsResultPath": null,
       "isJsonSchema": true,
       "metadata": {
        "dataframeName": null
       },
       "overflow": false,
       "plotOptions": {
        "customPlotOptions": {},
        "displayType": "table",
        "pivotAggregation": null,
        "pivotColumns": null,
        "xColumns": null,
        "yColumns": null
       },
       "removedWidgets": [],
       "schema": [],
       "type": "table"
      }
     },
     "output_type": "display_data"
    }
   ],
   "source": [
    "%sql\n",
    "-- Submissions table\n",
    "CREATE TABLE Submissions (\n",
    "    adsh STRING NOT NULL,\n",
    "    cik BIGINT,\n",
    "    name STRING NOT NULL,\n",
    "    sic INT,\n",
    "    countryba STRING,\n",
    "    stprba STRING,\n",
    "    cityba STRING,\n",
    "    zipba STRING,\n",
    "    bas1 STRING,\n",
    "    bas2 STRING,\n",
    "    baph STRING,\n",
    "    countryma STRING,\n",
    "    stprma STRING,\n",
    "    cityma STRING,\n",
    "    zipma STRING,\n",
    "    mas1 STRING,\n",
    "    mas2 STRING,\n",
    "    countryinc STRING ,\n",
    "    stprinc STRING,\n",
    "    ein STRING,\n",
    "    former STRING,\n",
    "    changed DATE,\n",
    "    afs STRING,\n",
    "    wksi BOOLEAN NOT NULL,\n",
    "    fye STRING,\n",
    "    form STRING,\n",
    "    period DATE NOT NULL,\n",
    "    fy INT ,\n",
    "    fp STRING,\n",
    "    filed DATE NOT NULL,\n",
    "    accepted TIMESTAMP NOT NULL,\n",
    "    prevrpt BOOLEAN NOT NULL,\n",
    "    detail BOOLEAN NOT NULL,\n",
    "    instance STRING NOT NULL,\n",
    "    nciks INT,\n",
    "    aciks STRING\n",
    ") USING DELTA;\n",
    "\n",
    "-- Tags table\n",
    "CREATE TABLE Tags (\n",
    "    tag STRING NOT NULL,\n",
    "    version STRING NOT NULL,\n",
    "    custom INT NOT NULL,\n",
    "    abstract BOOLEAN NOT NULL,\n",
    "    datatype STRING,\n",
    "    iord STRING,\n",
    "    crdr STRING,\n",
    "    tlabel STRING,\n",
    "    doc STRING\n",
    ") USING DELTA;\n",
    "\n",
    "-- Numbers table\n",
    "CREATE TABLE Numbers (\n",
    "    adsh STRING NOT NULL,\n",
    "    tag STRING NOT NULL,\n",
    "    version STRING NOT NULL,\n",
    "    ddate DATE NOT NULL,\n",
    "    qtrs INT NOT NULL,\n",
    "    uom STRING NOT NULL,\n",
    "    coreg STRING ,\n",
    "    value DECIMAL(28,4),\n",
    "    footnote STRING\n",
    ") USING DELTA;\n",
    "\n",
    "-- Presentations table\n",
    "CREATE TABLE Presentations (\n",
    "    adsh STRING NOT NULL,\n",
    "    report INT NOT NULL,\n",
    "    line INT NOT NULL,\n",
    "    stmt STRING,\n",
    "    inpth BOOLEAN NOT NULL,\n",
    "    rfile STRING,\n",
    "    tag STRING,\n",
    "    version STRING,\n",
    "    plabel STRING\n",
    ") USING DELTA;"
   ]
  },
  {
   "cell_type": "code",
   "execution_count": null,
   "metadata": {
    "application/vnd.databricks.v1+cell": {
     "cellMetadata": {
      "byteLimit": 2048000,
      "implicitDf": true,
      "rowLimit": 10000
     },
     "inputWidgets": {},
     "nuid": "ecf3fbe4-4177-4e00-892b-92294d5e44ad",
     "showTitle": false,
     "title": ""
    }
   },
   "outputs": [
    {
     "data": {
      "text/html": [
       "<style scoped>\n",
       "  .table-result-container {\n",
       "    max-height: 300px;\n",
       "    overflow: auto;\n",
       "  }\n",
       "  table, th, td {\n",
       "    border: 1px solid black;\n",
       "    border-collapse: collapse;\n",
       "  }\n",
       "  th, td {\n",
       "    padding: 5px;\n",
       "  }\n",
       "  th {\n",
       "    text-align: left;\n",
       "  }\n",
       "</style><div class='table-result-container'><table class='table-result'><thead style='background-color: white'><tr></tr></thead><tbody></tbody></table></div>"
      ]
     },
     "metadata": {
      "application/vnd.databricks.v1+output": {
       "addedWidgets": {},
       "aggData": [],
       "aggError": "",
       "aggOverflow": false,
       "aggSchema": [],
       "aggSeriesLimitReached": false,
       "aggType": "",
       "arguments": {},
       "columnCustomDisplayInfos": {},
       "data": [],
       "datasetInfos": [],
       "dbfsResultPath": null,
       "isJsonSchema": true,
       "metadata": {
        "dataframeName": null
       },
       "overflow": false,
       "plotOptions": {
        "customPlotOptions": {},
        "displayType": "table",
        "pivotAggregation": null,
        "pivotColumns": null,
        "xColumns": null,
        "yColumns": null
       },
       "removedWidgets": [],
       "schema": [],
       "type": "table"
      }
     },
     "output_type": "display_data"
    }
   ],
   "source": [
    "%sql\n",
    "-- Drop the tables\n",
    " -- DROP TABLE IF EXISTS Presentations;\n",
    "-- DROP TABLE IF EXISTS Numbers;\n",
    "--DROP TABLE IF EXISTS Tags;\n",
    "--DROP TABLE IF EXISTS Submissions;"
   ]
  },
  {
   "cell_type": "markdown",
   "metadata": {
    "application/vnd.databricks.v1+cell": {
     "cellMetadata": {},
     "inputWidgets": {},
     "nuid": "7eb9fc57-e876-4bb6-8f9a-9157e89b02ec",
     "showTitle": false,
     "title": ""
    }
   },
   "source": [
    "## Add Primary and Foreign keys"
   ]
  },
  {
   "cell_type": "code",
   "execution_count": null,
   "metadata": {
    "application/vnd.databricks.v1+cell": {
     "cellMetadata": {
      "byteLimit": 2048000,
      "implicitDf": true,
      "rowLimit": 10000
     },
     "inputWidgets": {},
     "nuid": "bec70abc-d158-428c-9a67-529677995fd8",
     "showTitle": false,
     "title": ""
    }
   },
   "outputs": [
    {
     "data": {
      "text/html": [
       "<style scoped>\n",
       "  .table-result-container {\n",
       "    max-height: 300px;\n",
       "    overflow: auto;\n",
       "  }\n",
       "  table, th, td {\n",
       "    border: 1px solid black;\n",
       "    border-collapse: collapse;\n",
       "  }\n",
       "  th, td {\n",
       "    padding: 5px;\n",
       "  }\n",
       "  th {\n",
       "    text-align: left;\n",
       "  }\n",
       "</style><div class='table-result-container'><table class='table-result'><thead style='background-color: white'><tr></tr></thead><tbody></tbody></table></div>"
      ]
     },
     "metadata": {
      "application/vnd.databricks.v1+output": {
       "addedWidgets": {},
       "aggData": [],
       "aggError": "",
       "aggOverflow": false,
       "aggSchema": [],
       "aggSeriesLimitReached": false,
       "aggType": "",
       "arguments": {},
       "columnCustomDisplayInfos": {},
       "data": [],
       "datasetInfos": [],
       "dbfsResultPath": null,
       "isJsonSchema": true,
       "metadata": {
        "dataframeName": null
       },
       "overflow": false,
       "plotOptions": {
        "customPlotOptions": {},
        "displayType": "table",
        "pivotAggregation": null,
        "pivotColumns": null,
        "xColumns": null,
        "yColumns": null
       },
       "removedWidgets": [],
       "schema": [],
       "type": "table"
      }
     },
     "output_type": "display_data"
    }
   ],
   "source": [
    "%sql\n",
    "-- Add primary keys\n",
    "ALTER TABLE Submissions ADD CONSTRAINT pk_submissions PRIMARY KEY (adsh);\n",
    "ALTER TABLE Tags ADD CONSTRAINT pk_tags PRIMARY KEY (tag, version);\n",
    "ALTER TABLE Numbers ADD CONSTRAINT pk_numbers PRIMARY KEY (adsh, tag, version, ddate, qtrs, uom);\n",
    "ALTER TABLE Presentations ADD CONSTRAINT pk_presentations PRIMARY KEY (adsh, report, line);\n",
    "\n",
    "-- Add foreign keys\n",
    "ALTER TABLE Numbers ADD CONSTRAINT fk_numbers_submissions \n",
    "    FOREIGN KEY (adsh) REFERENCES Submissions(adsh);\n",
    "ALTER TABLE Numbers ADD CONSTRAINT fk_numbers_tags \n",
    "    FOREIGN KEY (tag, version) REFERENCES Tags(tag, version);\n",
    "ALTER TABLE Presentations ADD CONSTRAINT fk_presentations_submissions \n",
    "    FOREIGN KEY (adsh) REFERENCES Submissions(adsh);\n",
    "ALTER TABLE Presentations ADD CONSTRAINT fk_presentations_tags \n",
    "    FOREIGN KEY (tag, version) REFERENCES Tags(tag, version);\n",
    "\n"
   ]
  },
  {
   "cell_type": "markdown",
   "metadata": {
    "application/vnd.databricks.v1+cell": {
     "cellMetadata": {},
     "inputWidgets": {},
     "nuid": "341483d2-da31-4524-bd4a-a8a87af963ce",
     "showTitle": false,
     "title": ""
    }
   },
   "source": [
    "## Mount your storage container"
   ]
  },
  {
   "cell_type": "code",
   "execution_count": null,
   "metadata": {
    "application/vnd.databricks.v1+cell": {
     "cellMetadata": {
      "byteLimit": 2048000,
      "rowLimit": 10000
     },
     "inputWidgets": {},
     "nuid": "6be4bfd0-b377-4313-9c74-dc3bc45b69f3",
     "showTitle": false,
     "title": ""
    }
   },
   "outputs": [
    {
     "data": {
      "text/plain": [
       "True"
      ]
     },
     "execution_count": 2,
     "metadata": {},
     "output_type": "execute_result"
    }
   ],
   "source": [
    "storage_account_name = \"testtech\"\n",
    "storage_account_key = ''\n",
    "container_name_source = \"testtech\"\n",
    "container_name_dest = \"newtesttech\"\n",
    "\n",
    "\n",
    "# Configure the spark context with the storage account key\n",
    "spark.conf.set(f\"fs.azure.account.key.{storage_account_name}.blob.core.windows.net\", storage_account_key)\n",
    "\n",
    "# Mount your destination container\n",
    "dbutils.fs.mount(\n",
    "  source = f\"wasbs://newtesttech@{storage_account_name}.blob.core.windows.net/\",\n",
    "  mount_point = \"/mnt/newtesttech\",\n",
    "  extra_configs = {f\"fs.azure.account.key.{storage_account_name}.blob.core.windows.net\": storage_account_key}\n",
    ")"
   ]
  },
  {
   "cell_type": "code",
   "execution_count": null,
   "metadata": {
    "application/vnd.databricks.v1+cell": {
     "cellMetadata": {
      "byteLimit": 2048000,
      "rowLimit": 10000
     },
     "inputWidgets": {},
     "nuid": "0f357aae-c5b1-452c-9a9c-bd64a815ee05",
     "showTitle": false,
     "title": ""
    }
   },
   "outputs": [
    {
     "name": "stdout",
     "output_type": "stream",
     "text": [
      "Starting to process all quarter folders from /mnt/newtesttech\n",
      "Processing folder: 2009q2/\n",
      "Processing folder: 2009q3/\n",
      "Processing folder: 2009q4/\n",
      "Processing folder: 2010q1/\n",
      "Processing folder: 2010q2/\n",
      "Data upload completed for all quarters.\n"
     ]
    }
   ],
   "source": [
    "from pyspark.sql import SparkSession\n",
    "from pyspark.sql.functions import *\n",
    "from pyspark.sql.types import *\n",
    "from delta.tables import *\n",
    "\n",
    "# Create SparkSession\n",
    "spark = SparkSession.builder.appName(\"ParquetToDelta\").getOrCreate()\n",
    "\n",
    "# Define the mount point where your Blob Storage is mounted\n",
    "root_directory = \"/mnt/newtesttech\"\n",
    "\n",
    "# Define schemas for each table\n",
    "submissions_schema = StructType([\n",
    "    StructField(\"adsh\", StringType(), False),\n",
    "    StructField(\"cik\", LongType(), True),\n",
    "    StructField(\"name\", StringType(), True),\n",
    "    StructField(\"sic\", IntegerType(), True),\n",
    "    StructField(\"countryba\", StringType(), False),\n",
    "    StructField(\"stprba\", StringType(), True),\n",
    "    StructField(\"cityba\", StringType(), False),\n",
    "    StructField(\"zipba\", StringType(), True),\n",
    "    StructField(\"bas1\", StringType(), True),\n",
    "    StructField(\"bas2\", StringType(), True),\n",
    "    StructField(\"baph\", StringType(), True),\n",
    "    StructField(\"countryma\", StringType(), True),\n",
    "    StructField(\"stprma\", StringType(), True),\n",
    "    StructField(\"cityma\", StringType(), True),\n",
    "    StructField(\"zipma\", StringType(), True),\n",
    "    StructField(\"mas1\", StringType(), True),\n",
    "    StructField(\"mas2\", StringType(), True),\n",
    "    StructField(\"countryinc\", StringType(), False),\n",
    "    StructField(\"stprinc\", StringType(), True),\n",
    "    StructField(\"ein\", StringType(), True),\n",
    "    StructField(\"former\", StringType(), True),\n",
    "    StructField(\"changed\", DateType(), True),\n",
    "    StructField(\"afs\", StringType(), True),\n",
    "    StructField(\"wksi\", BooleanType(), False),\n",
    "    StructField(\"fye\", StringType(), False),\n",
    "    StructField(\"form\", StringType(), False),\n",
    "    StructField(\"period\", DateType(), False),\n",
    "    StructField(\"fy\", IntegerType(), False),\n",
    "    StructField(\"fp\", StringType(), False),\n",
    "    StructField(\"filed\", DateType(), False),\n",
    "    StructField(\"accepted\", TimestampType(), False),\n",
    "    StructField(\"prevrpt\", BooleanType(), False),\n",
    "    StructField(\"detail\", BooleanType(), False),\n",
    "    StructField(\"instance\", StringType(), False),\n",
    "    StructField(\"nciks\", IntegerType(), False),\n",
    "    StructField(\"aciks\", StringType(), True)\n",
    "])\n",
    "\n",
    "tags_schema = StructType([\n",
    "    StructField(\"tag\", StringType(), False),\n",
    "    StructField(\"version\", StringType(), False),\n",
    "    StructField(\"custom\", IntegerType(), False),\n",
    "    StructField(\"abstract\", BooleanType(), False),\n",
    "    StructField(\"datatype\", StringType(), True),\n",
    "    StructField(\"iord\", StringType(), True),\n",
    "    StructField(\"crdr\", StringType(), True),\n",
    "    StructField(\"tlabel\", StringType(), True),\n",
    "    StructField(\"doc\", StringType(), True)\n",
    "])\n",
    "\n",
    "numbers_schema = StructType([\n",
    "    StructField(\"adsh\", StringType(), True),\n",
    "    StructField(\"tag\", StringType(), True),\n",
    "    StructField(\"version\", StringType(), True),\n",
    "    StructField(\"ddate\", DateType(), True),\n",
    "    StructField(\"qtrs\", IntegerType(), True),\n",
    "    StructField(\"uom\", StringType(), True),\n",
    "    StructField(\"coreg\", StringType(), True),\n",
    "    StructField(\"value\", DecimalType(28,4), True),\n",
    "    StructField(\"footnote\", StringType(), True)\n",
    "])\n",
    "\n",
    "presentations_schema = StructType([\n",
    "    StructField(\"adsh\", StringType(), False),\n",
    "    StructField(\"report\", IntegerType(), True),\n",
    "    StructField(\"line\", IntegerType(), False),\n",
    "    StructField(\"stmt\", StringType(), False),\n",
    "    StructField(\"inpth\", BooleanType(), False),\n",
    "    StructField(\"rfile\", StringType(), False),\n",
    "    StructField(\"tag\", StringType(), False),\n",
    "    StructField(\"version\", StringType(), False),\n",
    "    StructField(\"plabel\", StringType(), False)\n",
    "])\n",
    "\n",
    "\n",
    "\n",
    "# Function to process files in a specific quarter folder\n",
    "def process_quarter_folder(folder_path):\n",
    "\n",
    "    files = dbutils.fs.ls(folder_path)\n",
    "    for file in files:\n",
    "        if file.name == 'pre.parquet/':\n",
    "            file_path = file.path\n",
    "            df = spark.read.parquet(file_path)\n",
    "            for field in presentations_schema.fields:\n",
    "                df = df.withColumn(field.name, col(field.name).cast(field.dataType))\n",
    "            df.write.mode(\"append\").saveAsTable('Presentations')\n",
    "        elif file.name == 'num.parquet/':\n",
    "            file_path = file.path\n",
    "            df = spark.read.parquet(file_path)\n",
    "            for field in numbers_schema.fields:\n",
    "                df = df.withColumn(field.name, col(field.name).cast(field.dataType))\n",
    "            df.write.mode(\"append\").saveAsTable('Numbers')\n",
    "\n",
    "        elif file.name == 'sub.parquet/':\n",
    "            file_path = file.path\n",
    "            df = spark.read.parquet(file_path)\n",
    "            for field in submissions_schema.fields:\n",
    "                df = df.withColumn(field.name, col(field.name).cast(field.dataType))\n",
    "            df.write.mode(\"append\").saveAsTable('Submissions')\n",
    "\n",
    "        elif file.name == 'tag.parquet/':\n",
    "            file_path = file.path\n",
    "            df = spark.read.parquet(file_path)\n",
    "            for field in tags_schema.fields:\n",
    "                df = df.withColumn(field.name, col(field.name).cast(field.dataType))\n",
    "            df.write.mode(\"append\").saveAsTable('Tags')\n",
    "        else:\n",
    "            print(f\"Skipping file {file.name} as it doesn't match any known pattern\")\n",
    "\n",
    "# Function to process all quarter folders\n",
    "def process_all_quarters():\n",
    "    quarters = dbutils.fs.ls(root_directory)\n",
    "    for quarter in quarters:\n",
    "        print(f\"Processing folder: {quarter.name}\")\n",
    "        process_quarter_folder(quarter.path)\n",
    "\n",
    "spark.conf.set(\"spark.databricks.delta.schema.autoMerge.enabled\", \"true\")\n",
    "\n",
    "print(f\"Starting to process all quarter folders from {root_directory}\")\n",
    "process_all_quarters()\n",
    "\n",
    "print(\"Data upload completed for all quarters.\")"
   ]
  },
  {
   "cell_type": "code",
   "execution_count": null,
   "metadata": {
    "application/vnd.databricks.v1+cell": {
     "cellMetadata": {
      "byteLimit": 2048000,
      "rowLimit": 10000
     },
     "inputWidgets": {},
     "nuid": "1d89ba1e-add1-411b-b34c-c545c702004d",
     "showTitle": false,
     "title": ""
    }
   },
   "outputs": [
    {
     "name": "stdout",
     "output_type": "stream",
     "text": [
      "/mnt/newtesttech has been unmounted.\n"
     ]
    },
    {
     "data": {
      "text/plain": [
       "True"
      ]
     },
     "execution_count": 17,
     "metadata": {},
     "output_type": "execute_result"
    }
   ],
   "source": [
    "dbutils.fs.unmount(f\"/mnt/newtesttech\")"
   ]
  },
  {
   "cell_type": "markdown",
   "metadata": {
    "application/vnd.databricks.v1+cell": {
     "cellMetadata": {},
     "inputWidgets": {},
     "nuid": "5cdbb55a-bf8b-4ea5-836c-a1ee2c673bc4",
     "showTitle": false,
     "title": ""
    }
   },
   "source": [
    "## Simple Data Analysis in SQL"
   ]
  },
  {
   "cell_type": "markdown",
   "metadata": {
    "application/vnd.databricks.v1+cell": {
     "cellMetadata": {},
     "inputWidgets": {},
     "nuid": "57c95993-e05b-47f8-be3d-83a12b48737d",
     "showTitle": false,
     "title": ""
    }
   },
   "source": [
    "### Submission count of companies"
   ]
  },
  {
   "cell_type": "code",
   "execution_count": null,
   "metadata": {
    "application/vnd.databricks.v1+cell": {
     "cellMetadata": {
      "byteLimit": 2048000,
      "implicitDf": true,
      "rowLimit": 10000
     },
     "inputWidgets": {},
     "nuid": "576d45af-9e3a-4f66-9f43-b7b2a257f20c",
     "showTitle": false,
     "title": ""
    }
   },
   "outputs": [
    {
     "data": {
      "text/html": [
       "<style scoped>\n",
       "  .table-result-container {\n",
       "    max-height: 300px;\n",
       "    overflow: auto;\n",
       "  }\n",
       "  table, th, td {\n",
       "    border: 1px solid black;\n",
       "    border-collapse: collapse;\n",
       "  }\n",
       "  th, td {\n",
       "    padding: 5px;\n",
       "  }\n",
       "  th {\n",
       "    text-align: left;\n",
       "  }\n",
       "</style><div class='table-result-container'><table class='table-result'><thead style='background-color: white'><tr><th>name</th><th>submission_count</th></tr></thead><tbody><tr><td>GENZYME CORP</td><td>6</td></tr><tr><td>SOUTHWEST AIRLINES CO</td><td>6</td></tr><tr><td>CHEVRON CORP</td><td>6</td></tr><tr><td>LIBERTY GLOBAL, INC.</td><td>6</td></tr><tr><td>CF INDUSTRIES HOLDINGS, INC.</td><td>6</td></tr><tr><td>CABLEVISION SYSTEMS CORP /NY</td><td>6</td></tr><tr><td>GENERAL ELECTRIC CO</td><td>6</td></tr><tr><td>ISSUER DIRECT CORP</td><td>5</td></tr><tr><td>FIRSTENERGY CORP</td><td>5</td></tr><tr><td>PAPA JOHNS INTERNATIONAL INC</td><td>5</td></tr></tbody></table></div>"
      ]
     },
     "metadata": {
      "application/vnd.databricks.v1+output": {
       "addedWidgets": {},
       "aggData": [],
       "aggError": "",
       "aggOverflow": false,
       "aggSchema": [],
       "aggSeriesLimitReached": false,
       "aggType": "",
       "arguments": {},
       "columnCustomDisplayInfos": {},
       "data": [
        [
         "GENZYME CORP",
         6
        ],
        [
         "SOUTHWEST AIRLINES CO",
         6
        ],
        [
         "CHEVRON CORP",
         6
        ],
        [
         "LIBERTY GLOBAL, INC.",
         6
        ],
        [
         "CF INDUSTRIES HOLDINGS, INC.",
         6
        ],
        [
         "CABLEVISION SYSTEMS CORP /NY",
         6
        ],
        [
         "GENERAL ELECTRIC CO",
         6
        ],
        [
         "ISSUER DIRECT CORP",
         5
        ],
        [
         "FIRSTENERGY CORP",
         5
        ],
        [
         "PAPA JOHNS INTERNATIONAL INC",
         5
        ]
       ],
       "datasetInfos": [],
       "dbfsResultPath": null,
       "isJsonSchema": true,
       "metadata": {
        "dataframeName": "_sqldf",
        "executionCount": 10
       },
       "overflow": false,
       "plotOptions": {
        "customPlotOptions": {},
        "displayType": "table",
        "pivotAggregation": null,
        "pivotColumns": null,
        "xColumns": null,
        "yColumns": null
       },
       "removedWidgets": [],
       "schema": [
        {
         "metadata": "{}",
         "name": "name",
         "type": "\"string\""
        },
        {
         "metadata": "{}",
         "name": "submission_count",
         "type": "\"long\""
        }
       ],
       "type": "table"
      }
     },
     "output_type": "display_data"
    }
   ],
   "source": [
    "%sql\n",
    "Select name, COUNT(*) as submission_count\n",
    "from Submissions\n",
    "group by name\n",
    "order by submission_count desc\n",
    "limit 10;"
   ]
  },
  {
   "cell_type": "markdown",
   "metadata": {
    "application/vnd.databricks.v1+cell": {
     "cellMetadata": {},
     "inputWidgets": {},
     "nuid": "db7f9eae-ee33-41a0-9bea-4966098da929",
     "showTitle": false,
     "title": ""
    }
   },
   "source": [
    "###  Distribution of companies by country"
   ]
  },
  {
   "cell_type": "code",
   "execution_count": null,
   "metadata": {
    "application/vnd.databricks.v1+cell": {
     "cellMetadata": {
      "byteLimit": 2048000,
      "implicitDf": true,
      "rowLimit": 10000
     },
     "inputWidgets": {},
     "nuid": "1135f697-4ace-4073-a7b1-a86b52a155c6",
     "showTitle": false,
     "title": ""
    }
   },
   "outputs": [
    {
     "data": {
      "text/html": [
       "<style scoped>\n",
       "  .table-result-container {\n",
       "    max-height: 300px;\n",
       "    overflow: auto;\n",
       "  }\n",
       "  table, th, td {\n",
       "    border: 1px solid black;\n",
       "    border-collapse: collapse;\n",
       "  }\n",
       "  th, td {\n",
       "    padding: 5px;\n",
       "  }\n",
       "  th {\n",
       "    text-align: left;\n",
       "  }\n",
       "</style><div class='table-result-container'><table class='table-result'><thead style='background-color: white'><tr><th>countryba</th><th>company_count</th></tr></thead><tbody><tr><td>US</td><td>1854</td></tr><tr><td>BM</td><td>19</td></tr><tr><td>CA</td><td>18</td></tr><tr><td>IE</td><td>15</td></tr><tr><td>CH</td><td>12</td></tr><tr><td>JP</td><td>11</td></tr><tr><td>BR</td><td>9</td></tr><tr><td>GB</td><td>7</td></tr><tr><td>IL</td><td>5</td></tr><tr><td>DE</td><td>4</td></tr><tr><td>SG</td><td>4</td></tr><tr><td>KY</td><td>3</td></tr><tr><td>ZA</td><td>2</td></tr><tr><td>NL</td><td>1</td></tr><tr><td>CN</td><td>1</td></tr><tr><td>null</td><td>1</td></tr><tr><td>KR</td><td>1</td></tr><tr><td>IN</td><td>1</td></tr></tbody></table></div>"
      ]
     },
     "metadata": {
      "application/vnd.databricks.v1+output": {
       "addedWidgets": {},
       "aggData": [],
       "aggError": "",
       "aggOverflow": false,
       "aggSchema": [],
       "aggSeriesLimitReached": false,
       "aggType": "",
       "arguments": {},
       "columnCustomDisplayInfos": {},
       "data": [
        [
         "US",
         1854
        ],
        [
         "BM",
         19
        ],
        [
         "CA",
         18
        ],
        [
         "IE",
         15
        ],
        [
         "CH",
         12
        ],
        [
         "JP",
         11
        ],
        [
         "BR",
         9
        ],
        [
         "GB",
         7
        ],
        [
         "IL",
         5
        ],
        [
         "DE",
         4
        ],
        [
         "SG",
         4
        ],
        [
         "KY",
         3
        ],
        [
         "ZA",
         2
        ],
        [
         "NL",
         1
        ],
        [
         "CN",
         1
        ],
        [
         null,
         1
        ],
        [
         "KR",
         1
        ],
        [
         "IN",
         1
        ]
       ],
       "datasetInfos": [],
       "dbfsResultPath": null,
       "isJsonSchema": true,
       "metadata": {
        "dataframeName": "_sqldf",
        "executionCount": 11
       },
       "overflow": false,
       "plotOptions": {
        "customPlotOptions": {},
        "displayType": "table",
        "pivotAggregation": null,
        "pivotColumns": null,
        "xColumns": null,
        "yColumns": null
       },
       "removedWidgets": [],
       "schema": [
        {
         "metadata": "{}",
         "name": "countryba",
         "type": "\"string\""
        },
        {
         "metadata": "{}",
         "name": "company_count",
         "type": "\"long\""
        }
       ],
       "type": "table"
      }
     },
     "output_type": "display_data"
    }
   ],
   "source": [
    "%sql\n",
    "SELECT countryba, COUNT(*) as company_count\n",
    "FROM Submissions\n",
    "GROUP BY countryba\n",
    "ORDER BY company_count DESC;"
   ]
  },
  {
   "cell_type": "markdown",
   "metadata": {
    "application/vnd.databricks.v1+cell": {
     "cellMetadata": {},
     "inputWidgets": {},
     "nuid": "285c2441-9696-4e94-a38a-6dbea894a959",
     "showTitle": false,
     "title": ""
    }
   },
   "source": [
    "### Distribution of companies by SIC code"
   ]
  },
  {
   "cell_type": "code",
   "execution_count": null,
   "metadata": {
    "application/vnd.databricks.v1+cell": {
     "cellMetadata": {
      "byteLimit": 2048000,
      "implicitDf": true,
      "rowLimit": 10000
     },
     "inputWidgets": {},
     "nuid": "9b0860cc-e4cb-4ff6-bc27-2c08cc198eeb",
     "showTitle": false,
     "title": ""
    }
   },
   "outputs": [
    {
     "data": {
      "text/html": [
       "<style scoped>\n",
       "  .table-result-container {\n",
       "    max-height: 300px;\n",
       "    overflow: auto;\n",
       "  }\n",
       "  table, th, td {\n",
       "    border: 1px solid black;\n",
       "    border-collapse: collapse;\n",
       "  }\n",
       "  th, td {\n",
       "    padding: 5px;\n",
       "  }\n",
       "  th {\n",
       "    text-align: left;\n",
       "  }\n",
       "</style><div class='table-result-container'><table class='table-result'><thead style='background-color: white'><tr><th>sic</th><th>company_count</th></tr></thead><tbody><tr><td>1311</td><td>88</td></tr><tr><td>4911</td><td>73</td></tr><tr><td>6798</td><td>67</td></tr><tr><td>7372</td><td>57</td></tr><tr><td>2834</td><td>55</td></tr><tr><td>3674</td><td>49</td></tr><tr><td>6021</td><td>42</td></tr><tr><td>1381</td><td>39</td></tr><tr><td>6331</td><td>38</td></tr><tr><td>4841</td><td>38</td></tr><tr><td>4931</td><td>36</td></tr><tr><td>3841</td><td>35</td></tr><tr><td>2911</td><td>34</td></tr><tr><td>7389</td><td>33</td></tr><tr><td>6022</td><td>26</td></tr><tr><td>4922</td><td>25</td></tr><tr><td>4011</td><td>22</td></tr><tr><td>1221</td><td>21</td></tr><tr><td>4813</td><td>21</td></tr><tr><td>6324</td><td>20</td></tr><tr><td>3533</td><td>20</td></tr><tr><td>2836</td><td>19</td></tr><tr><td>6311</td><td>19</td></tr><tr><td>5912</td><td>19</td></tr><tr><td>6211</td><td>19</td></tr><tr><td>1600</td><td>18</td></tr><tr><td>3812</td><td>18</td></tr><tr><td>5411</td><td>17</td></tr><tr><td>6200</td><td>17</td></tr><tr><td>6282</td><td>16</td></tr><tr><td>3663</td><td>16</td></tr><tr><td>2111</td><td>16</td></tr><tr><td>1000</td><td>16</td></tr><tr><td>5812</td><td>16</td></tr><tr><td>6321</td><td>16</td></tr><tr><td>3312</td><td>16</td></tr><tr><td>2750</td><td>15</td></tr><tr><td>1040</td><td>14</td></tr><tr><td>2000</td><td>14</td></tr><tr><td>5651</td><td>13</td></tr><tr><td>4991</td><td>13</td></tr><tr><td>7373</td><td>13</td></tr><tr><td>4923</td><td>12</td></tr><tr><td>4899</td><td>12</td></tr><tr><td>5311</td><td>12</td></tr><tr><td>2080</td><td>12</td></tr><tr><td>5331</td><td>12</td></tr><tr><td>6411</td><td>12</td></tr><tr><td>3845</td><td>12</td></tr><tr><td>5122</td><td>11</td></tr><tr><td>3600</td><td>11</td></tr><tr><td>1389</td><td>11</td></tr><tr><td>3711</td><td>10</td></tr><tr><td>3570</td><td>9</td></tr><tr><td>2810</td><td>9</td></tr><tr><td>3571</td><td>9</td></tr><tr><td>3842</td><td>9</td></tr><tr><td>7371</td><td>9</td></tr><tr><td>2821</td><td>8</td></tr><tr><td>2711</td><td>8</td></tr><tr><td>3561</td><td>8</td></tr><tr><td>5211</td><td>8</td></tr><tr><td>8090</td><td>8</td></tr><tr><td>8200</td><td>8</td></tr><tr><td>2840</td><td>8</td></tr><tr><td>1400</td><td>8</td></tr><tr><td>2844</td><td>8</td></tr><tr><td>3823</td><td>8</td></tr><tr><td>4924</td><td>8</td></tr><tr><td>5200</td><td>8</td></tr><tr><td>4731</td><td>8</td></tr><tr><td>7011</td><td>8</td></tr><tr><td>3714</td><td>8</td></tr><tr><td>3760</td><td>8</td></tr><tr><td>2870</td><td>8</td></tr><tr><td>3532</td><td>8</td></tr><tr><td>2400</td><td>8</td></tr><tr><td>8071</td><td>8</td></tr><tr><td>6036</td><td>8</td></tr><tr><td>3829</td><td>8</td></tr><tr><td>4953</td><td>8</td></tr><tr><td>3572</td><td>7</td></tr><tr><td>2040</td><td>7</td></tr><tr><td>6141</td><td>7</td></tr><tr><td>2070</td><td>7</td></tr><tr><td>5065</td><td>7</td></tr><tr><td>3576</td><td>7</td></tr><tr><td>2820</td><td>7</td></tr><tr><td>3577</td><td>6</td></tr><tr><td>4512</td><td>6</td></tr><tr><td>7374</td><td>6</td></tr><tr><td>3844</td><td>5</td></tr><tr><td>3990</td><td>5</td></tr><tr><td>3621</td><td>5</td></tr><tr><td>7990</td><td>5</td></tr><tr><td>5621</td><td>5</td></tr><tr><td>3320</td><td>5</td></tr><tr><td>4812</td><td>5</td></tr><tr><td>7370</td><td>5</td></tr><tr><td>5531</td><td>5</td></tr><tr><td>7320</td><td>5</td></tr><tr><td>2670</td><td>5</td></tr><tr><td>3843</td><td>4</td></tr><tr><td>5961</td><td>4</td></tr><tr><td>5160</td><td>4</td></tr><tr><td>7311</td><td>4</td></tr><tr><td>4610</td><td>4</td></tr><tr><td>2531</td><td>4</td></tr><tr><td>3579</td><td>4</td></tr><tr><td>1731</td><td>4</td></tr><tr><td>3728</td><td>4</td></tr><tr><td>3721</td><td>4</td></tr><tr><td>2082</td><td>4</td></tr><tr><td>2320</td><td>4</td></tr><tr><td>3826</td><td>4</td></tr><tr><td>5000</td><td>4</td></tr><tr><td>7812</td><td>4</td></tr><tr><td>3720</td><td>4</td></tr><tr><td>3730</td><td>4</td></tr><tr><td>6199</td><td>4</td></tr><tr><td>3350</td><td>4</td></tr><tr><td>5940</td><td>4</td></tr><tr><td>8082</td><td>4</td></tr><tr><td>2060</td><td>4</td></tr><tr><td>3620</td><td>4</td></tr><tr><td>8731</td><td>4</td></tr><tr><td>7380</td><td>4</td></tr><tr><td>4210</td><td>4</td></tr><tr><td>3443</td><td>4</td></tr><tr><td>2030</td><td>4</td></tr><tr><td>6035</td><td>4</td></tr><tr><td>3430</td><td>4</td></tr><tr><td>2851</td><td>4</td></tr><tr><td>3357</td><td>4</td></tr><tr><td>3537</td><td>4</td></tr><tr><td>2800</td><td>4</td></tr><tr><td>7841</td><td>4</td></tr><tr><td>7200</td><td>4</td></tr><tr><td>4932</td><td>4</td></tr><tr><td>3724</td><td>4</td></tr><tr><td>3640</td><td>4</td></tr><tr><td>5013</td><td>4</td></tr><tr><td>3317</td><td>4</td></tr><tr><td>3590</td><td>4</td></tr><tr><td>3851</td><td>4</td></tr><tr><td>3510</td><td>4</td></tr><tr><td>3531</td><td>4</td></tr><tr><td>4400</td><td>4</td></tr><tr><td>3678</td><td>4</td></tr><tr><td>3751</td><td>4</td></tr><tr><td>3560</td><td>4</td></tr><tr><td>3530</td><td>4</td></tr><tr><td>5810</td><td>4</td></tr><tr><td>3540</td><td>4</td></tr><tr><td>2430</td><td>4</td></tr><tr><td>3672</td><td>4</td></tr><tr><td>3822</td><td>4</td></tr><tr><td>2731</td><td>4</td></tr><tr><td>3942</td><td>4</td></tr><tr><td>4833</td><td>4</td></tr><tr><td>5734</td><td>4</td></tr><tr><td>6111</td><td>4</td></tr><tr><td>2621</td><td>4</td></tr><tr><td>3221</td><td>4</td></tr><tr><td>2086</td><td>4</td></tr><tr><td>3523</td><td>4</td></tr><tr><td>3825</td><td>4</td></tr><tr><td>3490</td><td>3</td></tr><tr><td>2833</td><td>3</td></tr><tr><td>5140</td><td>3</td></tr><tr><td>2842</td><td>3</td></tr><tr><td>8700</td><td>3</td></tr><tr><td>1220</td><td>3</td></tr><tr><td>5731</td><td>3</td></tr><tr><td>2330</td><td>3</td></tr><tr><td>3100</td><td>3</td></tr><tr><td>5700</td><td>3</td></tr><tr><td>3021</td><td>3</td></tr><tr><td>4513</td><td>3</td></tr><tr><td>7359</td><td>2</td></tr><tr><td>3861</td><td>2</td></tr><tr><td>3651</td><td>2</td></tr><tr><td>2033</td><td>2</td></tr><tr><td>3661</td><td>1</td></tr><tr><td>3679</td><td>1</td></tr><tr><td>4220</td><td>1</td></tr><tr><td>3613</td><td>1</td></tr><tr><td>3310</td><td>1</td></tr><tr><td>6159</td><td>1</td></tr><tr><td>3559</td><td>1</td></tr></tbody></table></div>"
      ]
     },
     "metadata": {
      "application/vnd.databricks.v1+output": {
       "addedWidgets": {},
       "aggData": [],
       "aggError": "",
       "aggOverflow": false,
       "aggSchema": [],
       "aggSeriesLimitReached": false,
       "aggType": "",
       "arguments": {},
       "columnCustomDisplayInfos": {},
       "data": [
        [
         1311,
         88
        ],
        [
         4911,
         73
        ],
        [
         6798,
         67
        ],
        [
         7372,
         57
        ],
        [
         2834,
         55
        ],
        [
         3674,
         49
        ],
        [
         6021,
         42
        ],
        [
         1381,
         39
        ],
        [
         6331,
         38
        ],
        [
         4841,
         38
        ],
        [
         4931,
         36
        ],
        [
         3841,
         35
        ],
        [
         2911,
         34
        ],
        [
         7389,
         33
        ],
        [
         6022,
         26
        ],
        [
         4922,
         25
        ],
        [
         4011,
         22
        ],
        [
         1221,
         21
        ],
        [
         4813,
         21
        ],
        [
         6324,
         20
        ],
        [
         3533,
         20
        ],
        [
         2836,
         19
        ],
        [
         6311,
         19
        ],
        [
         5912,
         19
        ],
        [
         6211,
         19
        ],
        [
         1600,
         18
        ],
        [
         3812,
         18
        ],
        [
         5411,
         17
        ],
        [
         6200,
         17
        ],
        [
         6282,
         16
        ],
        [
         3663,
         16
        ],
        [
         2111,
         16
        ],
        [
         1000,
         16
        ],
        [
         5812,
         16
        ],
        [
         6321,
         16
        ],
        [
         3312,
         16
        ],
        [
         2750,
         15
        ],
        [
         1040,
         14
        ],
        [
         2000,
         14
        ],
        [
         5651,
         13
        ],
        [
         4991,
         13
        ],
        [
         7373,
         13
        ],
        [
         4923,
         12
        ],
        [
         4899,
         12
        ],
        [
         5311,
         12
        ],
        [
         2080,
         12
        ],
        [
         5331,
         12
        ],
        [
         6411,
         12
        ],
        [
         3845,
         12
        ],
        [
         5122,
         11
        ],
        [
         3600,
         11
        ],
        [
         1389,
         11
        ],
        [
         3711,
         10
        ],
        [
         3570,
         9
        ],
        [
         2810,
         9
        ],
        [
         3571,
         9
        ],
        [
         3842,
         9
        ],
        [
         7371,
         9
        ],
        [
         2821,
         8
        ],
        [
         2711,
         8
        ],
        [
         3561,
         8
        ],
        [
         5211,
         8
        ],
        [
         8090,
         8
        ],
        [
         8200,
         8
        ],
        [
         2840,
         8
        ],
        [
         1400,
         8
        ],
        [
         2844,
         8
        ],
        [
         3823,
         8
        ],
        [
         4924,
         8
        ],
        [
         5200,
         8
        ],
        [
         4731,
         8
        ],
        [
         7011,
         8
        ],
        [
         3714,
         8
        ],
        [
         3760,
         8
        ],
        [
         2870,
         8
        ],
        [
         3532,
         8
        ],
        [
         2400,
         8
        ],
        [
         8071,
         8
        ],
        [
         6036,
         8
        ],
        [
         3829,
         8
        ],
        [
         4953,
         8
        ],
        [
         3572,
         7
        ],
        [
         2040,
         7
        ],
        [
         6141,
         7
        ],
        [
         2070,
         7
        ],
        [
         5065,
         7
        ],
        [
         3576,
         7
        ],
        [
         2820,
         7
        ],
        [
         3577,
         6
        ],
        [
         4512,
         6
        ],
        [
         7374,
         6
        ],
        [
         3844,
         5
        ],
        [
         3990,
         5
        ],
        [
         3621,
         5
        ],
        [
         7990,
         5
        ],
        [
         5621,
         5
        ],
        [
         3320,
         5
        ],
        [
         4812,
         5
        ],
        [
         7370,
         5
        ],
        [
         5531,
         5
        ],
        [
         7320,
         5
        ],
        [
         2670,
         5
        ],
        [
         3843,
         4
        ],
        [
         5961,
         4
        ],
        [
         5160,
         4
        ],
        [
         7311,
         4
        ],
        [
         4610,
         4
        ],
        [
         2531,
         4
        ],
        [
         3579,
         4
        ],
        [
         1731,
         4
        ],
        [
         3728,
         4
        ],
        [
         3721,
         4
        ],
        [
         2082,
         4
        ],
        [
         2320,
         4
        ],
        [
         3826,
         4
        ],
        [
         5000,
         4
        ],
        [
         7812,
         4
        ],
        [
         3720,
         4
        ],
        [
         3730,
         4
        ],
        [
         6199,
         4
        ],
        [
         3350,
         4
        ],
        [
         5940,
         4
        ],
        [
         8082,
         4
        ],
        [
         2060,
         4
        ],
        [
         3620,
         4
        ],
        [
         8731,
         4
        ],
        [
         7380,
         4
        ],
        [
         4210,
         4
        ],
        [
         3443,
         4
        ],
        [
         2030,
         4
        ],
        [
         6035,
         4
        ],
        [
         3430,
         4
        ],
        [
         2851,
         4
        ],
        [
         3357,
         4
        ],
        [
         3537,
         4
        ],
        [
         2800,
         4
        ],
        [
         7841,
         4
        ],
        [
         7200,
         4
        ],
        [
         4932,
         4
        ],
        [
         3724,
         4
        ],
        [
         3640,
         4
        ],
        [
         5013,
         4
        ],
        [
         3317,
         4
        ],
        [
         3590,
         4
        ],
        [
         3851,
         4
        ],
        [
         3510,
         4
        ],
        [
         3531,
         4
        ],
        [
         4400,
         4
        ],
        [
         3678,
         4
        ],
        [
         3751,
         4
        ],
        [
         3560,
         4
        ],
        [
         3530,
         4
        ],
        [
         5810,
         4
        ],
        [
         3540,
         4
        ],
        [
         2430,
         4
        ],
        [
         3672,
         4
        ],
        [
         3822,
         4
        ],
        [
         2731,
         4
        ],
        [
         3942,
         4
        ],
        [
         4833,
         4
        ],
        [
         5734,
         4
        ],
        [
         6111,
         4
        ],
        [
         2621,
         4
        ],
        [
         3221,
         4
        ],
        [
         2086,
         4
        ],
        [
         3523,
         4
        ],
        [
         3825,
         4
        ],
        [
         3490,
         3
        ],
        [
         2833,
         3
        ],
        [
         5140,
         3
        ],
        [
         2842,
         3
        ],
        [
         8700,
         3
        ],
        [
         1220,
         3
        ],
        [
         5731,
         3
        ],
        [
         2330,
         3
        ],
        [
         3100,
         3
        ],
        [
         5700,
         3
        ],
        [
         3021,
         3
        ],
        [
         4513,
         3
        ],
        [
         7359,
         2
        ],
        [
         3861,
         2
        ],
        [
         3651,
         2
        ],
        [
         2033,
         2
        ],
        [
         3661,
         1
        ],
        [
         3679,
         1
        ],
        [
         4220,
         1
        ],
        [
         3613,
         1
        ],
        [
         3310,
         1
        ],
        [
         6159,
         1
        ],
        [
         3559,
         1
        ]
       ],
       "datasetInfos": [],
       "dbfsResultPath": null,
       "isJsonSchema": true,
       "metadata": {
        "dataframeName": "_sqldf",
        "executionCount": 12
       },
       "overflow": false,
       "plotOptions": {
        "customPlotOptions": {},
        "displayType": "table",
        "pivotAggregation": null,
        "pivotColumns": null,
        "xColumns": null,
        "yColumns": null
       },
       "removedWidgets": [],
       "schema": [
        {
         "metadata": "{}",
         "name": "sic",
         "type": "\"integer\""
        },
        {
         "metadata": "{}",
         "name": "company_count",
         "type": "\"long\""
        }
       ],
       "type": "table"
      }
     },
     "output_type": "display_data"
    }
   ],
   "source": [
    "%sql\n",
    "SELECT sic, COUNT(*) as company_count\n",
    "FROM Submissions\n",
    "WHERE sic IS NOT NULL\n",
    "GROUP BY sic\n",
    "ORDER BY company_count DESC;"
   ]
  },
  {
   "cell_type": "markdown",
   "metadata": {
    "application/vnd.databricks.v1+cell": {
     "cellMetadata": {},
     "inputWidgets": {},
     "nuid": "1cc57b33-b03b-43c1-a144-319491791d39",
     "showTitle": false,
     "title": ""
    }
   },
   "source": [
    "### Most commonly used tags"
   ]
  },
  {
   "cell_type": "code",
   "execution_count": null,
   "metadata": {
    "application/vnd.databricks.v1+cell": {
     "cellMetadata": {
      "byteLimit": 2048000,
      "implicitDf": true,
      "rowLimit": 10000
     },
     "inputWidgets": {},
     "nuid": "722bbd85-e085-4b89-88e1-53e6f3fe30a0",
     "showTitle": false,
     "title": ""
    }
   },
   "outputs": [
    {
     "data": {
      "text/html": [
       "<style scoped>\n",
       "  .table-result-container {\n",
       "    max-height: 300px;\n",
       "    overflow: auto;\n",
       "  }\n",
       "  table, th, td {\n",
       "    border: 1px solid black;\n",
       "    border-collapse: collapse;\n",
       "  }\n",
       "  th, td {\n",
       "    padding: 5px;\n",
       "  }\n",
       "  th {\n",
       "    text-align: left;\n",
       "  }\n",
       "</style><div class='table-result-container'><table class='table-result'><thead style='background-color: white'><tr><th>tag</th><th>custom</th><th>usage_count</th></tr></thead><tbody><tr><td>ProfitLoss</td><td>1</td><td>245700</td></tr><tr><td>StockholdersEquityIncludingPortionAttributableToNoncontrollingInterest</td><td>1</td><td>228564</td></tr><tr><td>NetIncomeLossAttributableToNoncontrollingInterest</td><td>1</td><td>169534</td></tr><tr><td>IncomeLossFromContinuingOperationsBeforeIncomeTaxes</td><td>1</td><td>102138</td></tr><tr><td>PrepaidExpensesAndOtherCurrentAssets</td><td>1</td><td>51198</td></tr><tr><td>CashAndCashEquivalentsAtCarryingValue</td><td>0</td><td>46500</td></tr><tr><td>IncomeLossFromContinuingOperationsIncludingPortionAttributableToNoncontrollingInterest</td><td>1</td><td>42891</td></tr><tr><td>ComprehensiveIncomeNetOfTaxIncludingPortionAttributableToNoncontrollingInterest</td><td>1</td><td>40575</td></tr><tr><td>IncomeTaxExpenseBenefit</td><td>0</td><td>37518</td></tr><tr><td>EarningsPerShareBasic</td><td>0</td><td>35400</td></tr><tr><td>EarningsPerShareDiluted</td><td>0</td><td>35226</td></tr><tr><td>NetIncomeLoss</td><td>0</td><td>34104</td></tr><tr><td>OperatingIncomeLoss</td><td>0</td><td>28602</td></tr><tr><td>CashAndCashEquivalentsPeriodIncreaseDecrease</td><td>0</td><td>27504</td></tr><tr><td>IncomeLossFromContinuingOperationsBeforeIncomeTaxesMinorityInterestAndIncomeLossFromEquityMethodInvestments</td><td>0</td><td>26670</td></tr><tr><td>NetCashProvidedByUsedInInvestingActivities</td><td>0</td><td>26466</td></tr><tr><td>NetCashProvidedByUsedInOperatingActivities</td><td>0</td><td>26244</td></tr><tr><td>WeightedAverageNumberOfDilutedSharesOutstanding</td><td>0</td><td>26214</td></tr><tr><td>NetCashProvidedByUsedInFinancingActivities</td><td>0</td><td>26214</td></tr><tr><td>WeightedAverageNumberOfSharesOutstandingBasic</td><td>0</td><td>26064</td></tr></tbody></table></div>"
      ]
     },
     "metadata": {
      "application/vnd.databricks.v1+output": {
       "addedWidgets": {},
       "aggData": [],
       "aggError": "",
       "aggOverflow": false,
       "aggSchema": [],
       "aggSeriesLimitReached": false,
       "aggType": "",
       "arguments": {},
       "columnCustomDisplayInfos": {},
       "data": [
        [
         "ProfitLoss",
         1,
         245700
        ],
        [
         "StockholdersEquityIncludingPortionAttributableToNoncontrollingInterest",
         1,
         228564
        ],
        [
         "NetIncomeLossAttributableToNoncontrollingInterest",
         1,
         169534
        ],
        [
         "IncomeLossFromContinuingOperationsBeforeIncomeTaxes",
         1,
         102138
        ],
        [
         "PrepaidExpensesAndOtherCurrentAssets",
         1,
         51198
        ],
        [
         "CashAndCashEquivalentsAtCarryingValue",
         0,
         46500
        ],
        [
         "IncomeLossFromContinuingOperationsIncludingPortionAttributableToNoncontrollingInterest",
         1,
         42891
        ],
        [
         "ComprehensiveIncomeNetOfTaxIncludingPortionAttributableToNoncontrollingInterest",
         1,
         40575
        ],
        [
         "IncomeTaxExpenseBenefit",
         0,
         37518
        ],
        [
         "EarningsPerShareBasic",
         0,
         35400
        ],
        [
         "EarningsPerShareDiluted",
         0,
         35226
        ],
        [
         "NetIncomeLoss",
         0,
         34104
        ],
        [
         "OperatingIncomeLoss",
         0,
         28602
        ],
        [
         "CashAndCashEquivalentsPeriodIncreaseDecrease",
         0,
         27504
        ],
        [
         "IncomeLossFromContinuingOperationsBeforeIncomeTaxesMinorityInterestAndIncomeLossFromEquityMethodInvestments",
         0,
         26670
        ],
        [
         "NetCashProvidedByUsedInInvestingActivities",
         0,
         26466
        ],
        [
         "NetCashProvidedByUsedInOperatingActivities",
         0,
         26244
        ],
        [
         "WeightedAverageNumberOfDilutedSharesOutstanding",
         0,
         26214
        ],
        [
         "NetCashProvidedByUsedInFinancingActivities",
         0,
         26214
        ],
        [
         "WeightedAverageNumberOfSharesOutstandingBasic",
         0,
         26064
        ]
       ],
       "datasetInfos": [],
       "dbfsResultPath": null,
       "isJsonSchema": true,
       "metadata": {
        "dataframeName": "_sqldf",
        "executionCount": 13
       },
       "overflow": false,
       "plotOptions": {
        "customPlotOptions": {},
        "displayType": "table",
        "pivotAggregation": null,
        "pivotColumns": null,
        "xColumns": null,
        "yColumns": null
       },
       "removedWidgets": [],
       "schema": [
        {
         "metadata": "{}",
         "name": "tag",
         "type": "\"string\""
        },
        {
         "metadata": "{}",
         "name": "custom",
         "type": "\"integer\""
        },
        {
         "metadata": "{}",
         "name": "usage_count",
         "type": "\"long\""
        }
       ],
       "type": "table"
      }
     },
     "output_type": "display_data"
    }
   ],
   "source": [
    "%sql\n",
    "SELECT t.tag, t.custom, COUNT(*) as usage_count\n",
    "FROM Numbers n\n",
    "JOIN Tags t ON n.tag = t.tag\n",
    "GROUP BY t.tag, t.custom\n",
    "ORDER BY usage_count DESC\n",
    "LIMIT 20;"
   ]
  },
  {
   "cell_type": "markdown",
   "metadata": {
    "application/vnd.databricks.v1+cell": {
     "cellMetadata": {},
     "inputWidgets": {},
     "nuid": "2a648b8f-da93-49d7-9925-d2bc60fbfec2",
     "showTitle": false,
     "title": ""
    }
   },
   "source": [
    "### Most common report types"
   ]
  },
  {
   "cell_type": "code",
   "execution_count": null,
   "metadata": {
    "application/vnd.databricks.v1+cell": {
     "cellMetadata": {
      "byteLimit": 2048000,
      "implicitDf": true,
      "rowLimit": 10000
     },
     "inputWidgets": {},
     "nuid": "41e54ff8-42a0-4b3f-8cca-37f3d1706c26",
     "showTitle": false,
     "title": ""
    }
   },
   "outputs": [
    {
     "data": {
      "text/html": [
       "<style scoped>\n",
       "  .table-result-container {\n",
       "    max-height: 300px;\n",
       "    overflow: auto;\n",
       "  }\n",
       "  table, th, td {\n",
       "    border: 1px solid black;\n",
       "    border-collapse: collapse;\n",
       "  }\n",
       "  th, td {\n",
       "    padding: 5px;\n",
       "  }\n",
       "  th {\n",
       "    text-align: left;\n",
       "  }\n",
       "</style><div class='table-result-container'><table class='table-result'><thead style='background-color: white'><tr><th>stmt</th><th>usage_count</th></tr></thead><tbody><tr><td>BS</td><td>102534</td></tr><tr><td>CF</td><td>91943</td></tr><tr><td>IS</td><td>63832</td></tr><tr><td>EQ</td><td>35673</td></tr><tr><td>CP</td><td>17163</td></tr><tr><td>CI</td><td>8489</td></tr><tr><td>UN</td><td>2727</td></tr></tbody></table></div>"
      ]
     },
     "metadata": {
      "application/vnd.databricks.v1+output": {
       "addedWidgets": {},
       "aggData": [],
       "aggError": "",
       "aggOverflow": false,
       "aggSchema": [],
       "aggSeriesLimitReached": false,
       "aggType": "",
       "arguments": {},
       "columnCustomDisplayInfos": {},
       "data": [
        [
         "BS",
         102534
        ],
        [
         "CF",
         91943
        ],
        [
         "IS",
         63832
        ],
        [
         "EQ",
         35673
        ],
        [
         "CP",
         17163
        ],
        [
         "CI",
         8489
        ],
        [
         "UN",
         2727
        ]
       ],
       "datasetInfos": [],
       "dbfsResultPath": null,
       "isJsonSchema": true,
       "metadata": {
        "dataframeName": "_sqldf",
        "executionCount": 15
       },
       "overflow": false,
       "plotOptions": {
        "customPlotOptions": {},
        "displayType": "table",
        "pivotAggregation": null,
        "pivotColumns": null,
        "xColumns": null,
        "yColumns": null
       },
       "removedWidgets": [],
       "schema": [
        {
         "metadata": "{}",
         "name": "stmt",
         "type": "\"string\""
        },
        {
         "metadata": "{}",
         "name": "usage_count",
         "type": "\"long\""
        }
       ],
       "type": "table"
      }
     },
     "output_type": "display_data"
    }
   ],
   "source": [
    "%sql\n",
    "SELECT stmt, COUNT(*) as usage_count\n",
    "FROM Presentations\n",
    "GROUP BY stmt\n",
    "ORDER BY usage_count DESC;"
   ]
  },
  {
   "cell_type": "markdown",
   "metadata": {
    "application/vnd.databricks.v1+cell": {
     "cellMetadata": {},
     "inputWidgets": {},
     "nuid": "bc887cbb-8f6b-4f9c-b3cf-587e74126c61",
     "showTitle": false,
     "title": ""
    }
   },
   "source": [
    "### Submission trends over time"
   ]
  },
  {
   "cell_type": "code",
   "execution_count": null,
   "metadata": {
    "application/vnd.databricks.v1+cell": {
     "cellMetadata": {
      "byteLimit": 2048000,
      "implicitDf": true,
      "rowLimit": 10000
     },
     "inputWidgets": {},
     "nuid": "f9b24c02-4c96-4e73-9a51-351987bca6d3",
     "showTitle": false,
     "title": ""
    }
   },
   "outputs": [
    {
     "data": {
      "text/html": [
       "<style scoped>\n",
       "  .table-result-container {\n",
       "    max-height: 300px;\n",
       "    overflow: auto;\n",
       "  }\n",
       "  table, th, td {\n",
       "    border: 1px solid black;\n",
       "    border-collapse: collapse;\n",
       "  }\n",
       "  th, td {\n",
       "    padding: 5px;\n",
       "  }\n",
       "  th {\n",
       "    text-align: left;\n",
       "  }\n",
       "</style><div class='table-result-container'><table class='table-result'><thead style='background-color: white'><tr><th>year</th><th>month</th><th>filing_count</th></tr></thead><tbody><tr><td>2009</td><td>4</td><td>8</td></tr><tr><td>2009</td><td>5</td><td>16</td></tr><tr><td>2009</td><td>6</td><td>2</td></tr><tr><td>2009</td><td>7</td><td>113</td></tr><tr><td>2009</td><td>8</td><td>287</td></tr><tr><td>2009</td><td>9</td><td>39</td></tr><tr><td>2009</td><td>10</td><td>152</td></tr><tr><td>2009</td><td>11</td><td>294</td></tr><tr><td>2009</td><td>12</td><td>40</td></tr><tr><td>2010</td><td>1</td><td>34</td></tr><tr><td>2010</td><td>2</td><td>347</td></tr><tr><td>2010</td><td>3</td><td>114</td></tr><tr><td>2010</td><td>4</td><td>151</td></tr><tr><td>2010</td><td>5</td><td>316</td></tr><tr><td>2010</td><td>6</td><td>55</td></tr></tbody></table></div>"
      ]
     },
     "metadata": {
      "application/vnd.databricks.v1+output": {
       "addedWidgets": {},
       "aggData": [],
       "aggError": "",
       "aggOverflow": false,
       "aggSchema": [],
       "aggSeriesLimitReached": false,
       "aggType": "",
       "arguments": {},
       "columnCustomDisplayInfos": {},
       "data": [
        [
         2009,
         4,
         8
        ],
        [
         2009,
         5,
         16
        ],
        [
         2009,
         6,
         2
        ],
        [
         2009,
         7,
         113
        ],
        [
         2009,
         8,
         287
        ],
        [
         2009,
         9,
         39
        ],
        [
         2009,
         10,
         152
        ],
        [
         2009,
         11,
         294
        ],
        [
         2009,
         12,
         40
        ],
        [
         2010,
         1,
         34
        ],
        [
         2010,
         2,
         347
        ],
        [
         2010,
         3,
         114
        ],
        [
         2010,
         4,
         151
        ],
        [
         2010,
         5,
         316
        ],
        [
         2010,
         6,
         55
        ]
       ],
       "datasetInfos": [],
       "dbfsResultPath": null,
       "isJsonSchema": true,
       "metadata": {
        "dataframeName": "_sqldf",
        "executionCount": 16
       },
       "overflow": false,
       "plotOptions": {
        "customPlotOptions": {},
        "displayType": "table",
        "pivotAggregation": null,
        "pivotColumns": null,
        "xColumns": null,
        "yColumns": null
       },
       "removedWidgets": [],
       "schema": [
        {
         "metadata": "{}",
         "name": "year",
         "type": "\"integer\""
        },
        {
         "metadata": "{}",
         "name": "month",
         "type": "\"integer\""
        },
        {
         "metadata": "{}",
         "name": "filing_count",
         "type": "\"long\""
        }
       ],
       "type": "table"
      }
     },
     "output_type": "display_data"
    }
   ],
   "source": [
    "%sql\n",
    "SELECT EXTRACT(YEAR FROM filed) as year, EXTRACT(MONTH FROM filed) as month, COUNT(*) as filing_count\n",
    "FROM Submissions\n",
    "GROUP BY year, month\n",
    "ORDER BY year, month;"
   ]
  }
 ],
 "metadata": {
  "application/vnd.databricks.v1+notebook": {
   "dashboards": [],
   "environmentMetadata": null,
   "language": "python",
   "notebookMetadata": {
    "mostRecentlyExecutedCommandWithImplicitDF": {
     "commandId": 3109015062110785,
     "dataframes": [
      "_sqldf"
     ]
    },
    "pythonIndentUnit": 4
   },
   "notebookName": "financial data pipeline Data Ingestion",
   "widgets": {}
  },
  "kernelspec": {
   "display_name": "Python 3 (ipykernel)",
   "language": "python",
   "name": "python3"
  },
  "language_info": {
   "codemirror_mode": {
    "name": "ipython",
    "version": 3
   },
   "file_extension": ".py",
   "mimetype": "text/x-python",
   "name": "python",
   "nbconvert_exporter": "python",
   "pygments_lexer": "ipython3",
   "version": "3.11.7"
  }
 },
 "nbformat": 4,
 "nbformat_minor": 4
}
